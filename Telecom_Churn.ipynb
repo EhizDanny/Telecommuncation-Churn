{
 "cells": [
  {
   "cell_type": "markdown",
   "metadata": {},
   "source": [
    "This competition is about predicting whether a customer will change telecommunications provider, something known as \"churning\".\n",
    "\n",
    "The training dataset contains 4250 samples. Each sample contains 19 features and 1 boolean variable \"churn\" which indicates the class of the sample. The 19 input features and 1 target variable are:\n",
    "\n",
    "\"state\", string. 2-letter code of the US state of customer residence <br>\n",
    "\"account_length\", numerical. Number of months the customer has been with the current telco provider<br><br>\n",
    "\"area_code\", string=\"area_code_AAA\" where AAA = 3 digit area code.<br>\n",
    "\"international_plan\", (yes/no). The customer has international plan.<br>\n",
    "\"voice_mail_plan\", (yes/no). The customer has voice mail plan.<br>\n",
    "\"number_vmail_messages\", numerical. Number of voice-mail messages.<br>\n",
    "\"total_day_minutes\", numerical. Total minutes of day calls.<br>\n",
    "\"total_day_calls\", numerical. Total minutes of day calls.<br>\n",
    "\"total_day_charge\", numerical. Total charge of day calls.<br>\n",
    "\"total_eve_minutes\", numerical. Total minutes of evening calls.<br>\n",
    "\"total_eve_calls\", numerical. Total number of evening calls.<br>\n",
    "\"total_eve_charge\", numerical. Total charge of evening calls.<br>\n",
    "\"total_night_minutes\", numerical. Total minutes of night calls.<br>\n",
    "\"total_night_calls\", numerical. Total number of night calls.<br>\n",
    "\"total_night_charge\", numerical. Total charge of night calls.<br>\n",
    "\"total_intl_minutes\", numerical. Total minutes of international calls.<br>\n",
    "\"total_intl_calls\", numerical. Total number of international calls.<br>\n",
    "\"total_intl_charge\", numerical. Total charge of international calls<br>\n",
    "\"number_customer_service_calls\", numerical. Number of calls to customer service<br>\n",
    "\"churn\", (yes/no). Customer churn - target variable.<br>\n",
    "The submissions will be evaluated using the test Accuracy criterion:<br>\n",
    "\n"
   ]
  },
  {
   "cell_type": "code",
   "execution_count": 5,
   "metadata": {},
   "outputs": [],
   "source": [
    "import pandas as pd\n",
    "import numpy as np\n",
    "import seaborn as sns\n",
    "import matplotlib.pyplot as plt\n",
    "%matplotlib inline\n",
    "import warnings \n",
    "warnings.filterwarnings(\"ignore\")"
   ]
  },
  {
   "cell_type": "code",
   "execution_count": 6,
   "metadata": {},
   "outputs": [],
   "source": [
    "# import datasets\n",
    "train = pd.read_csv(r\"C:\\Users\\BIOLA\\Desktop\\Data Science Projects\\Capstone Project\\Dataset\\Telecom Churn\\train.csv\")\n",
    "test = pd.read_csv(r\"C:\\Users\\BIOLA\\Desktop\\Data Science Projects\\Capstone Project\\Dataset\\Telecom Churn\\test.csv\")"
   ]
  },
  {
   "cell_type": "code",
   "execution_count": 7,
   "metadata": {},
   "outputs": [
    {
     "data": {
      "text/html": [
       "<div>\n",
       "<style scoped>\n",
       "    .dataframe tbody tr th:only-of-type {\n",
       "        vertical-align: middle;\n",
       "    }\n",
       "\n",
       "    .dataframe tbody tr th {\n",
       "        vertical-align: top;\n",
       "    }\n",
       "\n",
       "    .dataframe thead th {\n",
       "        text-align: right;\n",
       "    }\n",
       "</style>\n",
       "<table border=\"1\" class=\"dataframe\">\n",
       "  <thead>\n",
       "    <tr style=\"text-align: right;\">\n",
       "      <th></th>\n",
       "      <th>state</th>\n",
       "      <th>account_length</th>\n",
       "      <th>area_code</th>\n",
       "      <th>international_plan</th>\n",
       "      <th>voice_mail_plan</th>\n",
       "      <th>number_vmail_messages</th>\n",
       "      <th>total_day_minutes</th>\n",
       "      <th>total_day_calls</th>\n",
       "      <th>total_day_charge</th>\n",
       "      <th>total_eve_minutes</th>\n",
       "      <th>total_eve_calls</th>\n",
       "      <th>total_eve_charge</th>\n",
       "      <th>total_night_minutes</th>\n",
       "      <th>total_night_calls</th>\n",
       "      <th>total_night_charge</th>\n",
       "      <th>total_intl_minutes</th>\n",
       "      <th>total_intl_calls</th>\n",
       "      <th>total_intl_charge</th>\n",
       "      <th>number_customer_service_calls</th>\n",
       "      <th>churn</th>\n",
       "    </tr>\n",
       "  </thead>\n",
       "  <tbody>\n",
       "    <tr>\n",
       "      <th>0</th>\n",
       "      <td>OH</td>\n",
       "      <td>107</td>\n",
       "      <td>area_code_415</td>\n",
       "      <td>no</td>\n",
       "      <td>yes</td>\n",
       "      <td>26</td>\n",
       "      <td>161.6</td>\n",
       "      <td>123</td>\n",
       "      <td>27.47</td>\n",
       "      <td>195.5</td>\n",
       "      <td>103</td>\n",
       "      <td>16.62</td>\n",
       "      <td>254.4</td>\n",
       "      <td>103</td>\n",
       "      <td>11.45</td>\n",
       "      <td>13.7</td>\n",
       "      <td>3</td>\n",
       "      <td>3.70</td>\n",
       "      <td>1</td>\n",
       "      <td>no</td>\n",
       "    </tr>\n",
       "    <tr>\n",
       "      <th>1</th>\n",
       "      <td>NJ</td>\n",
       "      <td>137</td>\n",
       "      <td>area_code_415</td>\n",
       "      <td>no</td>\n",
       "      <td>no</td>\n",
       "      <td>0</td>\n",
       "      <td>243.4</td>\n",
       "      <td>114</td>\n",
       "      <td>41.38</td>\n",
       "      <td>121.2</td>\n",
       "      <td>110</td>\n",
       "      <td>10.30</td>\n",
       "      <td>162.6</td>\n",
       "      <td>104</td>\n",
       "      <td>7.32</td>\n",
       "      <td>12.2</td>\n",
       "      <td>5</td>\n",
       "      <td>3.29</td>\n",
       "      <td>0</td>\n",
       "      <td>no</td>\n",
       "    </tr>\n",
       "    <tr>\n",
       "      <th>2</th>\n",
       "      <td>OH</td>\n",
       "      <td>84</td>\n",
       "      <td>area_code_408</td>\n",
       "      <td>yes</td>\n",
       "      <td>no</td>\n",
       "      <td>0</td>\n",
       "      <td>299.4</td>\n",
       "      <td>71</td>\n",
       "      <td>50.90</td>\n",
       "      <td>61.9</td>\n",
       "      <td>88</td>\n",
       "      <td>5.26</td>\n",
       "      <td>196.9</td>\n",
       "      <td>89</td>\n",
       "      <td>8.86</td>\n",
       "      <td>6.6</td>\n",
       "      <td>7</td>\n",
       "      <td>1.78</td>\n",
       "      <td>2</td>\n",
       "      <td>no</td>\n",
       "    </tr>\n",
       "    <tr>\n",
       "      <th>3</th>\n",
       "      <td>OK</td>\n",
       "      <td>75</td>\n",
       "      <td>area_code_415</td>\n",
       "      <td>yes</td>\n",
       "      <td>no</td>\n",
       "      <td>0</td>\n",
       "      <td>166.7</td>\n",
       "      <td>113</td>\n",
       "      <td>28.34</td>\n",
       "      <td>148.3</td>\n",
       "      <td>122</td>\n",
       "      <td>12.61</td>\n",
       "      <td>186.9</td>\n",
       "      <td>121</td>\n",
       "      <td>8.41</td>\n",
       "      <td>10.1</td>\n",
       "      <td>3</td>\n",
       "      <td>2.73</td>\n",
       "      <td>3</td>\n",
       "      <td>no</td>\n",
       "    </tr>\n",
       "    <tr>\n",
       "      <th>4</th>\n",
       "      <td>MA</td>\n",
       "      <td>121</td>\n",
       "      <td>area_code_510</td>\n",
       "      <td>no</td>\n",
       "      <td>yes</td>\n",
       "      <td>24</td>\n",
       "      <td>218.2</td>\n",
       "      <td>88</td>\n",
       "      <td>37.09</td>\n",
       "      <td>348.5</td>\n",
       "      <td>108</td>\n",
       "      <td>29.62</td>\n",
       "      <td>212.6</td>\n",
       "      <td>118</td>\n",
       "      <td>9.57</td>\n",
       "      <td>7.5</td>\n",
       "      <td>7</td>\n",
       "      <td>2.03</td>\n",
       "      <td>3</td>\n",
       "      <td>no</td>\n",
       "    </tr>\n",
       "    <tr>\n",
       "      <th>...</th>\n",
       "      <td>...</td>\n",
       "      <td>...</td>\n",
       "      <td>...</td>\n",
       "      <td>...</td>\n",
       "      <td>...</td>\n",
       "      <td>...</td>\n",
       "      <td>...</td>\n",
       "      <td>...</td>\n",
       "      <td>...</td>\n",
       "      <td>...</td>\n",
       "      <td>...</td>\n",
       "      <td>...</td>\n",
       "      <td>...</td>\n",
       "      <td>...</td>\n",
       "      <td>...</td>\n",
       "      <td>...</td>\n",
       "      <td>...</td>\n",
       "      <td>...</td>\n",
       "      <td>...</td>\n",
       "      <td>...</td>\n",
       "    </tr>\n",
       "    <tr>\n",
       "      <th>4245</th>\n",
       "      <td>MT</td>\n",
       "      <td>83</td>\n",
       "      <td>area_code_415</td>\n",
       "      <td>no</td>\n",
       "      <td>no</td>\n",
       "      <td>0</td>\n",
       "      <td>188.3</td>\n",
       "      <td>70</td>\n",
       "      <td>32.01</td>\n",
       "      <td>243.8</td>\n",
       "      <td>88</td>\n",
       "      <td>20.72</td>\n",
       "      <td>213.7</td>\n",
       "      <td>79</td>\n",
       "      <td>9.62</td>\n",
       "      <td>10.3</td>\n",
       "      <td>6</td>\n",
       "      <td>2.78</td>\n",
       "      <td>0</td>\n",
       "      <td>no</td>\n",
       "    </tr>\n",
       "    <tr>\n",
       "      <th>4246</th>\n",
       "      <td>WV</td>\n",
       "      <td>73</td>\n",
       "      <td>area_code_408</td>\n",
       "      <td>no</td>\n",
       "      <td>no</td>\n",
       "      <td>0</td>\n",
       "      <td>177.9</td>\n",
       "      <td>89</td>\n",
       "      <td>30.24</td>\n",
       "      <td>131.2</td>\n",
       "      <td>82</td>\n",
       "      <td>11.15</td>\n",
       "      <td>186.2</td>\n",
       "      <td>89</td>\n",
       "      <td>8.38</td>\n",
       "      <td>11.5</td>\n",
       "      <td>6</td>\n",
       "      <td>3.11</td>\n",
       "      <td>3</td>\n",
       "      <td>no</td>\n",
       "    </tr>\n",
       "    <tr>\n",
       "      <th>4247</th>\n",
       "      <td>NC</td>\n",
       "      <td>75</td>\n",
       "      <td>area_code_408</td>\n",
       "      <td>no</td>\n",
       "      <td>no</td>\n",
       "      <td>0</td>\n",
       "      <td>170.7</td>\n",
       "      <td>101</td>\n",
       "      <td>29.02</td>\n",
       "      <td>193.1</td>\n",
       "      <td>126</td>\n",
       "      <td>16.41</td>\n",
       "      <td>129.1</td>\n",
       "      <td>104</td>\n",
       "      <td>5.81</td>\n",
       "      <td>6.9</td>\n",
       "      <td>7</td>\n",
       "      <td>1.86</td>\n",
       "      <td>1</td>\n",
       "      <td>no</td>\n",
       "    </tr>\n",
       "    <tr>\n",
       "      <th>4248</th>\n",
       "      <td>HI</td>\n",
       "      <td>50</td>\n",
       "      <td>area_code_408</td>\n",
       "      <td>no</td>\n",
       "      <td>yes</td>\n",
       "      <td>40</td>\n",
       "      <td>235.7</td>\n",
       "      <td>127</td>\n",
       "      <td>40.07</td>\n",
       "      <td>223.0</td>\n",
       "      <td>126</td>\n",
       "      <td>18.96</td>\n",
       "      <td>297.5</td>\n",
       "      <td>116</td>\n",
       "      <td>13.39</td>\n",
       "      <td>9.9</td>\n",
       "      <td>5</td>\n",
       "      <td>2.67</td>\n",
       "      <td>2</td>\n",
       "      <td>no</td>\n",
       "    </tr>\n",
       "    <tr>\n",
       "      <th>4249</th>\n",
       "      <td>VT</td>\n",
       "      <td>86</td>\n",
       "      <td>area_code_415</td>\n",
       "      <td>no</td>\n",
       "      <td>yes</td>\n",
       "      <td>34</td>\n",
       "      <td>129.4</td>\n",
       "      <td>102</td>\n",
       "      <td>22.00</td>\n",
       "      <td>267.1</td>\n",
       "      <td>104</td>\n",
       "      <td>22.70</td>\n",
       "      <td>154.8</td>\n",
       "      <td>100</td>\n",
       "      <td>6.97</td>\n",
       "      <td>9.3</td>\n",
       "      <td>16</td>\n",
       "      <td>2.51</td>\n",
       "      <td>0</td>\n",
       "      <td>no</td>\n",
       "    </tr>\n",
       "  </tbody>\n",
       "</table>\n",
       "<p>4250 rows × 20 columns</p>\n",
       "</div>"
      ],
      "text/plain": [
       "     state  account_length      area_code international_plan voice_mail_plan  \\\n",
       "0       OH             107  area_code_415                 no             yes   \n",
       "1       NJ             137  area_code_415                 no              no   \n",
       "2       OH              84  area_code_408                yes              no   \n",
       "3       OK              75  area_code_415                yes              no   \n",
       "4       MA             121  area_code_510                 no             yes   \n",
       "...    ...             ...            ...                ...             ...   \n",
       "4245    MT              83  area_code_415                 no              no   \n",
       "4246    WV              73  area_code_408                 no              no   \n",
       "4247    NC              75  area_code_408                 no              no   \n",
       "4248    HI              50  area_code_408                 no             yes   \n",
       "4249    VT              86  area_code_415                 no             yes   \n",
       "\n",
       "      number_vmail_messages  total_day_minutes  total_day_calls  \\\n",
       "0                        26              161.6              123   \n",
       "1                         0              243.4              114   \n",
       "2                         0              299.4               71   \n",
       "3                         0              166.7              113   \n",
       "4                        24              218.2               88   \n",
       "...                     ...                ...              ...   \n",
       "4245                      0              188.3               70   \n",
       "4246                      0              177.9               89   \n",
       "4247                      0              170.7              101   \n",
       "4248                     40              235.7              127   \n",
       "4249                     34              129.4              102   \n",
       "\n",
       "      total_day_charge  total_eve_minutes  total_eve_calls  total_eve_charge  \\\n",
       "0                27.47              195.5              103             16.62   \n",
       "1                41.38              121.2              110             10.30   \n",
       "2                50.90               61.9               88              5.26   \n",
       "3                28.34              148.3              122             12.61   \n",
       "4                37.09              348.5              108             29.62   \n",
       "...                ...                ...              ...               ...   \n",
       "4245             32.01              243.8               88             20.72   \n",
       "4246             30.24              131.2               82             11.15   \n",
       "4247             29.02              193.1              126             16.41   \n",
       "4248             40.07              223.0              126             18.96   \n",
       "4249             22.00              267.1              104             22.70   \n",
       "\n",
       "      total_night_minutes  total_night_calls  total_night_charge  \\\n",
       "0                   254.4                103               11.45   \n",
       "1                   162.6                104                7.32   \n",
       "2                   196.9                 89                8.86   \n",
       "3                   186.9                121                8.41   \n",
       "4                   212.6                118                9.57   \n",
       "...                   ...                ...                 ...   \n",
       "4245                213.7                 79                9.62   \n",
       "4246                186.2                 89                8.38   \n",
       "4247                129.1                104                5.81   \n",
       "4248                297.5                116               13.39   \n",
       "4249                154.8                100                6.97   \n",
       "\n",
       "      total_intl_minutes  total_intl_calls  total_intl_charge  \\\n",
       "0                   13.7                 3               3.70   \n",
       "1                   12.2                 5               3.29   \n",
       "2                    6.6                 7               1.78   \n",
       "3                   10.1                 3               2.73   \n",
       "4                    7.5                 7               2.03   \n",
       "...                  ...               ...                ...   \n",
       "4245                10.3                 6               2.78   \n",
       "4246                11.5                 6               3.11   \n",
       "4247                 6.9                 7               1.86   \n",
       "4248                 9.9                 5               2.67   \n",
       "4249                 9.3                16               2.51   \n",
       "\n",
       "      number_customer_service_calls churn  \n",
       "0                                 1    no  \n",
       "1                                 0    no  \n",
       "2                                 2    no  \n",
       "3                                 3    no  \n",
       "4                                 3    no  \n",
       "...                             ...   ...  \n",
       "4245                              0    no  \n",
       "4246                              3    no  \n",
       "4247                              1    no  \n",
       "4248                              2    no  \n",
       "4249                              0    no  \n",
       "\n",
       "[4250 rows x 20 columns]"
      ]
     },
     "execution_count": 7,
     "metadata": {},
     "output_type": "execute_result"
    }
   ],
   "source": [
    "train"
   ]
  },
  {
   "cell_type": "code",
   "execution_count": 8,
   "metadata": {},
   "outputs": [
    {
     "name": "stdout",
     "output_type": "stream",
     "text": [
      "<class 'pandas.core.frame.DataFrame'>\n",
      "RangeIndex: 4250 entries, 0 to 4249\n",
      "Data columns (total 20 columns):\n",
      " #   Column                         Non-Null Count  Dtype  \n",
      "---  ------                         --------------  -----  \n",
      " 0   state                          4250 non-null   object \n",
      " 1   account_length                 4250 non-null   int64  \n",
      " 2   area_code                      4250 non-null   object \n",
      " 3   international_plan             4250 non-null   object \n",
      " 4   voice_mail_plan                4250 non-null   object \n",
      " 5   number_vmail_messages          4250 non-null   int64  \n",
      " 6   total_day_minutes              4250 non-null   float64\n",
      " 7   total_day_calls                4250 non-null   int64  \n",
      " 8   total_day_charge               4250 non-null   float64\n",
      " 9   total_eve_minutes              4250 non-null   float64\n",
      " 10  total_eve_calls                4250 non-null   int64  \n",
      " 11  total_eve_charge               4250 non-null   float64\n",
      " 12  total_night_minutes            4250 non-null   float64\n",
      " 13  total_night_calls              4250 non-null   int64  \n",
      " 14  total_night_charge             4250 non-null   float64\n",
      " 15  total_intl_minutes             4250 non-null   float64\n",
      " 16  total_intl_calls               4250 non-null   int64  \n",
      " 17  total_intl_charge              4250 non-null   float64\n",
      " 18  number_customer_service_calls  4250 non-null   int64  \n",
      " 19  churn                          4250 non-null   object \n",
      "dtypes: float64(8), int64(7), object(5)\n",
      "memory usage: 581.1+ KB\n"
     ]
    }
   ],
   "source": [
    "train.info()"
   ]
  },
  {
   "cell_type": "markdown",
   "metadata": {},
   "source": [
    "### Exploratory Analysis"
   ]
  },
  {
   "cell_type": "markdown",
   "metadata": {},
   "source": [
    "- Find states with the highest:\n",
    "1. International Call plan\n",
    "2. voice_mail_plan\n",
    "3. total_day_minutes \n",
    "4. total_day_calls\n",
    "5. total_day_charge\n",
    "6. total_night_calls\n",
    "7. total_intl_calls\n",
    "8. total_intl_charge\n",
    "\n",
    "- Find the state with the highest churn\n",
    "- Find the relationship between states and account length.\n",
    "- There are no null values"
   ]
  },
  {
   "cell_type": "markdown",
   "metadata": {},
   "source": [
    "### Univariate EDA"
   ]
  },
  {
   "cell_type": "code",
   "execution_count": 9,
   "metadata": {},
   "outputs": [],
   "source": [
    "df = train.copy()"
   ]
  },
  {
   "cell_type": "code",
   "execution_count": 10,
   "metadata": {},
   "outputs": [
    {
     "data": {
      "text/plain": [
       "Index(['account_length', 'number_vmail_messages', 'total_day_minutes',\n",
       "       'total_day_calls', 'total_day_charge', 'total_eve_minutes',\n",
       "       'total_eve_calls', 'total_eve_charge', 'total_night_minutes',\n",
       "       'total_night_calls', 'total_night_charge', 'total_intl_minutes',\n",
       "       'total_intl_calls', 'total_intl_charge',\n",
       "       'number_customer_service_calls'],\n",
       "      dtype='object')"
      ]
     },
     "execution_count": 10,
     "metadata": {},
     "output_type": "execute_result"
    }
   ],
   "source": [
    "train.select_dtypes('number') # Visualize numerical clumns\n",
    "train.select_dtypes('number').columns\n",
    "# train.select_dtypes('object').columns"
   ]
  },
  {
   "cell_type": "code",
   "execution_count": 11,
   "metadata": {},
   "outputs": [
    {
     "data": {
      "text/plain": [
       "<Figure size 1008x720 with 0 Axes>"
      ]
     },
     "execution_count": 11,
     "metadata": {},
     "output_type": "execute_result"
    },
    {
     "data": {
      "text/plain": [
       "<Figure size 1008x720 with 0 Axes>"
      ]
     },
     "metadata": {},
     "output_type": "display_data"
    }
   ],
   "source": [
    "# Displaying the categorical distributions\n",
    "plt.figure(figsize= (14,10))\n",
    "# plt.bar(train.state, train.total_intl_calls)\n",
    "# plt.title( 'Total international calls for each state')"
   ]
  },
  {
   "cell_type": "code",
   "execution_count": 12,
   "metadata": {},
   "outputs": [
    {
     "data": {
      "text/plain": [
       "<BarContainer object of 4250 artists>"
      ]
     },
     "execution_count": 12,
     "metadata": {},
     "output_type": "execute_result"
    },
    {
     "data": {
      "image/png": "[encoded data removed]",
      "text/plain": [
       "<Figure size 1296x720 with 1 Axes>"
      ]
     },
     "metadata": {
      "needs_background": "light"
     },
     "output_type": "display_data"
    }
   ],
   "source": [
    "plt.figure(figsize= (18,10))\n",
    "plt.bar(train.state, train.total_intl_charge)\n",
    "# plt.title('Total international calls for each state')"
   ]
  },
  {
   "cell_type": "code",
   "execution_count": 13,
   "metadata": {},
   "outputs": [
    {
     "data": {
      "text/plain": [
       "<Figure size 1296x720 with 0 Axes>"
      ]
     },
     "execution_count": 13,
     "metadata": {},
     "output_type": "execute_result"
    },
    {
     "data": {
      "text/plain": [
       "<Figure size 1296x720 with 0 Axes>"
      ]
     },
     "metadata": {},
     "output_type": "display_data"
    }
   ],
   "source": [
    "plt.figure(figsize= (18,10))\n",
    "# plt.bar(train.state, train.total_intl_charge)"
   ]
  },
  {
   "cell_type": "code",
   "execution_count": 14,
   "metadata": {},
   "outputs": [],
   "source": [
    "# train.state.value_counts().plot(kind = 'bar', figsize = (18, 11))"
   ]
  },
  {
   "cell_type": "markdown",
   "metadata": {},
   "source": [
    "### Feature Preprocessing"
   ]
  },
  {
   "cell_type": "code",
   "execution_count": 15,
   "metadata": {},
   "outputs": [],
   "source": [
    "from sklearn.feature_selection import RFECV, RFE\n",
    "from sklearn.ensemble import RandomForestClassifier\n",
    "from sklearn import svm\n",
    "# from xgboost import XGBClassifier\n",
    "# from xgboost import plot_importance\n",
    "from sklearn.model_selection import StratifiedKFold\n",
    "from sklearn.preprocessing import LabelEncoder"
   ]
  },
  {
   "cell_type": "code",
   "execution_count": 16,
   "metadata": {},
   "outputs": [],
   "source": [
    "# Make a copy of the data\n",
    "ds = df.copy()"
   ]
  },
  {
   "cell_type": "code",
   "execution_count": 17,
   "metadata": {},
   "outputs": [
    {
     "data": {
      "text/plain": [
       "Index(['state', 'area_code', 'international_plan', 'voice_mail_plan', 'churn'], dtype='object')"
      ]
     },
     "execution_count": 17,
     "metadata": {},
     "output_type": "execute_result"
    }
   ],
   "source": [
    "# Check the columns that are categorical\n",
    "ds.select_dtypes('object').columns"
   ]
  },
  {
   "cell_type": "code",
   "execution_count": 18,
   "metadata": {},
   "outputs": [
    {
     "data": {
      "text/plain": [
       "array([0, 1])"
      ]
     },
     "execution_count": 18,
     "metadata": {},
     "output_type": "execute_result"
    }
   ],
   "source": [
    "# Drop unnecessary columns\n",
    "ds.drop(['state', 'area_code'], axis = 1, inplace = True)\n",
    "\n",
    "# Convert the column to numerical column\n",
    "lb_instatiation = LabelEncoder()\n",
    "ds.international_plan = lb_instatiation.fit_transform(ds.international_plan)\n",
    "ds.international_plan.unique()\n",
    "\n",
    "ds.voice_mail_plan = lb_instatiation.fit_transform(ds.voice_mail_plan)\n",
    "ds.voice_mail_plan.unique()\n",
    "\n",
    "ds.churn = lb_instatiation.fit_transform(ds.churn)\n",
    "ds.churn.unique()\n"
   ]
  },
  {
   "cell_type": "code",
   "execution_count": 19,
   "metadata": {},
   "outputs": [],
   "source": [
    "# Divide Dataset into features and target\n",
    "features = ds\n",
    "target = ds.pop('churn')"
   ]
  },
  {
   "cell_type": "code",
   "execution_count": 20,
   "metadata": {},
   "outputs": [
    {
     "data": {
      "text/plain": [
       "'binary'"
      ]
     },
     "execution_count": 20,
     "metadata": {},
     "output_type": "execute_result"
    }
   ],
   "source": [
    "# Check the kind of target\n",
    "from sklearn.utils.multiclass import type_of_target\n",
    "type_of_target(target)"
   ]
  },
  {
   "cell_type": "code",
   "execution_count": 21,
   "metadata": {},
   "outputs": [
    {
     "data": {
      "text/plain": [
       "{'whiskers': [<matplotlib.lines.Line2D at 0x14ccb08>,\n",
       "  <matplotlib.lines.Line2D at 0x14ccc70>,\n",
       "  <matplotlib.lines.Line2D at 0x14df760>,\n",
       "  <matplotlib.lines.Line2D at 0x14df928>,\n",
       "  <matplotlib.lines.Line2D at 0x14ec400>,\n",
       "  <matplotlib.lines.Line2D at 0x14ec5c8>,\n",
       "  <matplotlib.lines.Line2D at 0x14f80a0>,\n",
       "  <matplotlib.lines.Line2D at 0x14f8268>,\n",
       "  <matplotlib.lines.Line2D at 0x14f8d18>,\n",
       "  <matplotlib.lines.Line2D at 0x14f8ee0>,\n",
       "  <matplotlib.lines.Line2D at 0x16b69b8>,\n",
       "  <matplotlib.lines.Line2D at 0x16b6b80>,\n",
       "  <matplotlib.lines.Line2D at 0x16c1658>,\n",
       "  <matplotlib.lines.Line2D at 0x16c1820>,\n",
       "  <matplotlib.lines.Line2D at 0x16ce1d8>,\n",
       "  <matplotlib.lines.Line2D at 0x16ce3a0>,\n",
       "  <matplotlib.lines.Line2D at 0x16cee50>,\n",
       "  <matplotlib.lines.Line2D at 0x16d9040>,\n",
       "  <matplotlib.lines.Line2D at 0x16d9af0>,\n",
       "  <matplotlib.lines.Line2D at 0x16d9cb8>,\n",
       "  <matplotlib.lines.Line2D at 0x16e7790>,\n",
       "  <matplotlib.lines.Line2D at 0x16e7958>,\n",
       "  <matplotlib.lines.Line2D at 0x16f3430>,\n",
       "  <matplotlib.lines.Line2D at 0x16f35f8>,\n",
       "  <matplotlib.lines.Line2D at 0x17000d0>,\n",
       "  <matplotlib.lines.Line2D at 0x1700298>,\n",
       "  <matplotlib.lines.Line2D at 0x1700d48>,\n",
       "  <matplotlib.lines.Line2D at 0x1700f10>,\n",
       "  <matplotlib.lines.Line2D at 0x170c9e8>,\n",
       "  <matplotlib.lines.Line2D at 0x170cbb0>,\n",
       "  <matplotlib.lines.Line2D at 0x1718688>,\n",
       "  <matplotlib.lines.Line2D at 0x1718850>,\n",
       "  <matplotlib.lines.Line2D at 0x1724328>,\n",
       "  <matplotlib.lines.Line2D at 0x17244f0>],\n",
       " 'caps': [<matplotlib.lines.Line2D at 0x14cce38>,\n",
       "  <matplotlib.lines.Line2D at 0x14df028>,\n",
       "  <matplotlib.lines.Line2D at 0x14dfaf0>,\n",
       "  <matplotlib.lines.Line2D at 0x14dfcb8>,\n",
       "  <matplotlib.lines.Line2D at 0x14ec790>,\n",
       "  <matplotlib.lines.Line2D at 0x14ec958>,\n",
       "  <matplotlib.lines.Line2D at 0x14f8430>,\n",
       "  <matplotlib.lines.Line2D at 0x14f85f8>,\n",
       "  <matplotlib.lines.Line2D at 0x16b60d0>,\n",
       "  <matplotlib.lines.Line2D at 0x16b6298>,\n",
       "  <matplotlib.lines.Line2D at 0x16b6d48>,\n",
       "  <matplotlib.lines.Line2D at 0x16b6f10>,\n",
       "  <matplotlib.lines.Line2D at 0x16c19e8>,\n",
       "  <matplotlib.lines.Line2D at 0x16c1bb0>,\n",
       "  <matplotlib.lines.Line2D at 0x16ce568>,\n",
       "  <matplotlib.lines.Line2D at 0x16ce730>,\n",
       "  <matplotlib.lines.Line2D at 0x16d9208>,\n",
       "  <matplotlib.lines.Line2D at 0x16d93d0>,\n",
       "  <matplotlib.lines.Line2D at 0x16d9e80>,\n",
       "  <matplotlib.lines.Line2D at 0x16e7070>,\n",
       "  <matplotlib.lines.Line2D at 0x16e7b20>,\n",
       "  <matplotlib.lines.Line2D at 0x16e7ce8>,\n",
       "  <matplotlib.lines.Line2D at 0x16f37c0>,\n",
       "  <matplotlib.lines.Line2D at 0x16f3988>,\n",
       "  <matplotlib.lines.Line2D at 0x1700460>,\n",
       "  <matplotlib.lines.Line2D at 0x1700628>,\n",
       "  <matplotlib.lines.Line2D at 0x170c100>,\n",
       "  <matplotlib.lines.Line2D at 0x170c2c8>,\n",
       "  <matplotlib.lines.Line2D at 0x170cd78>,\n",
       "  <matplotlib.lines.Line2D at 0x170cf40>,\n",
       "  <matplotlib.lines.Line2D at 0x1718a18>,\n",
       "  <matplotlib.lines.Line2D at 0x1718be0>,\n",
       "  <matplotlib.lines.Line2D at 0x17246b8>,\n",
       "  <matplotlib.lines.Line2D at 0x1724880>],\n",
       " 'boxes': [<matplotlib.lines.Line2D at 0x14cc8e0>,\n",
       "  <matplotlib.lines.Line2D at 0x14df4f0>,\n",
       "  <matplotlib.lines.Line2D at 0x14ec238>,\n",
       "  <matplotlib.lines.Line2D at 0x14eceb0>,\n",
       "  <matplotlib.lines.Line2D at 0x14f8b50>,\n",
       "  <matplotlib.lines.Line2D at 0x16b67f0>,\n",
       "  <matplotlib.lines.Line2D at 0x16c1490>,\n",
       "  <matplotlib.lines.Line2D at 0x16c1fe8>,\n",
       "  <matplotlib.lines.Line2D at 0x16cec88>,\n",
       "  <matplotlib.lines.Line2D at 0x16d9928>,\n",
       "  <matplotlib.lines.Line2D at 0x16e75c8>,\n",
       "  <matplotlib.lines.Line2D at 0x16f3268>,\n",
       "  <matplotlib.lines.Line2D at 0x16f3ee0>,\n",
       "  <matplotlib.lines.Line2D at 0x1700b80>,\n",
       "  <matplotlib.lines.Line2D at 0x170c820>,\n",
       "  <matplotlib.lines.Line2D at 0x17184c0>,\n",
       "  <matplotlib.lines.Line2D at 0x1724160>],\n",
       " 'medians': [<matplotlib.lines.Line2D at 0x14df1f0>,\n",
       "  <matplotlib.lines.Line2D at 0x14dfe80>,\n",
       "  <matplotlib.lines.Line2D at 0x14ecb20>,\n",
       "  <matplotlib.lines.Line2D at 0x14f87c0>,\n",
       "  <matplotlib.lines.Line2D at 0x16b6460>,\n",
       "  <matplotlib.lines.Line2D at 0x16c1100>,\n",
       "  <matplotlib.lines.Line2D at 0x16c1c58>,\n",
       "  <matplotlib.lines.Line2D at 0x16ce8f8>,\n",
       "  <matplotlib.lines.Line2D at 0x16d9598>,\n",
       "  <matplotlib.lines.Line2D at 0x16e7238>,\n",
       "  <matplotlib.lines.Line2D at 0x16e7eb0>,\n",
       "  <matplotlib.lines.Line2D at 0x16f3b50>,\n",
       "  <matplotlib.lines.Line2D at 0x17007f0>,\n",
       "  <matplotlib.lines.Line2D at 0x170c490>,\n",
       "  <matplotlib.lines.Line2D at 0x1718130>,\n",
       "  <matplotlib.lines.Line2D at 0x1718da8>,\n",
       "  <matplotlib.lines.Line2D at 0x1724a48>],\n",
       " 'fliers': [<matplotlib.lines.Line2D at 0x14df3b8>,\n",
       "  <matplotlib.lines.Line2D at 0x14ec070>,\n",
       "  <matplotlib.lines.Line2D at 0x14ecce8>,\n",
       "  <matplotlib.lines.Line2D at 0x14f8988>,\n",
       "  <matplotlib.lines.Line2D at 0x16b6628>,\n",
       "  <matplotlib.lines.Line2D at 0x16c12c8>,\n",
       "  <matplotlib.lines.Line2D at 0x16c1e20>,\n",
       "  <matplotlib.lines.Line2D at 0x16ceac0>,\n",
       "  <matplotlib.lines.Line2D at 0x16d9760>,\n",
       "  <matplotlib.lines.Line2D at 0x16e7400>,\n",
       "  <matplotlib.lines.Line2D at 0x16f30a0>,\n",
       "  <matplotlib.lines.Line2D at 0x16f3d18>,\n",
       "  <matplotlib.lines.Line2D at 0x17009b8>,\n",
       "  <matplotlib.lines.Line2D at 0x170c658>,\n",
       "  <matplotlib.lines.Line2D at 0x17182f8>,\n",
       "  <matplotlib.lines.Line2D at 0x1718f70>,\n",
       "  <matplotlib.lines.Line2D at 0x1724c10>],\n",
       " 'means': []}"
      ]
     },
     "execution_count": 21,
     "metadata": {},
     "output_type": "execute_result"
    },
    {
     "data": {
      "image/png": "[encoded data removed]",
      "text/plain": [
       "<Figure size 1296x792 with 1 Axes>"
      ]
     },
     "metadata": {
      "needs_background": "light"
     },
     "output_type": "display_data"
    }
   ],
   "source": [
    "# Checking Outliers \n",
    "\n",
    "plt.figure(figsize=(18,11))\n",
    "plt.boxplot(features)"
   ]
  },
  {
   "cell_type": "code",
   "execution_count": 22,
   "metadata": {},
   "outputs": [],
   "source": [
    "# Removal of Outliers\n",
    "\n",
    "def outlier_detect(df):\n",
    "    for i in df.describe().columns:\n",
    "        Q1 = df.describe().at['25%',i]\n",
    "        Q3 = df.describe().at['75%',i]\n",
    "        IQR = Q3 - Q1\n",
    "        lower = Q1 - 1.5 * IQR\n",
    "        higher = Q3 + 1.5 * IQR\n",
    "        x = np.array(df[i])\n",
    "        p = []\n",
    "        for j in x:\n",
    "            if j < lower or j > higher:\n",
    "                p.append(df[i].median())\n",
    "            else:\n",
    "                p.append(j)\n",
    "\n",
    "outlier_detect(features)\n",
    "        "
   ]
  },
  {
   "cell_type": "markdown",
   "metadata": {},
   "source": [
    "### Feature Selection"
   ]
  },
  {
   "cell_type": "code",
   "execution_count": 23,
   "metadata": {},
   "outputs": [
    {
     "name": "stdout",
     "output_type": "stream",
     "text": [
      "Optimal number of features : 17\n"
     ]
    },
    {
     "data": {
      "image/png": "[encoded data removed]",
      "text/plain": [
       "<Figure size 432x288 with 1 Axes>"
      ]
     },
     "metadata": {
      "needs_background": "light"
     },
     "output_type": "display_data"
    }
   ],
   "source": [
    "# Using Recursice Feature Selection\n",
    "# Ascertain the optimal features for the training \n",
    "from sklearn.ensemble import RandomForestClassifier\n",
    "rfe = RandomForestClassifier(random_state = 32) # Instantiate the algo\n",
    "rfecv  = RFECV(estimator= rfe, step=1, cv=StratifiedKFold(2), scoring=\"accuracy\") # Instantiate the RFECV and its parameters\n",
    "fit = rfecv.fit(features, target)\n",
    "print(\"Optimal number of features : %d\" % rfecv.n_features_)\n",
    "min_features_to_select = 1\n",
    "# Plot number of features VS. cross-validation scores\n",
    "plt.figure()\n",
    "plt.xlabel(\"Number of features selected\")\n",
    "plt.ylabel(\"Cross validation score (accuracy)\")\n",
    "plt.plot(\n",
    "    range(min_features_to_select, len(rfecv.grid_scores_) + min_features_to_select),\n",
    "    rfecv.grid_scores_,)\n",
    "plt.show()"
   ]
  },
  {
   "cell_type": "markdown",
   "metadata": {},
   "source": [
    "### Train Test Split"
   ]
  },
  {
   "cell_type": "code",
   "execution_count": 24,
   "metadata": {},
   "outputs": [
    {
     "data": {
      "text/plain": [
       "no     3652\n",
       "yes     598\n",
       "Name: churn, dtype: int64"
      ]
     },
     "execution_count": 24,
     "metadata": {},
     "output_type": "execute_result"
    }
   ],
   "source": [
    "train.churn.value_counts()\n",
    "\n",
    "# With the uneven distribution of 'yes' and 'no' in the target data, its advisable we stratify the target"
   ]
  },
  {
   "cell_type": "code",
   "execution_count": 25,
   "metadata": {},
   "outputs": [
    {
     "name": "stdout",
     "output_type": "stream",
     "text": [
      "X_train: (3400, 17)\n",
      "X_test: (850, 17)\n",
      "y_train: (3400,)\n",
      "y_test: (850,)\n"
     ]
    }
   ],
   "source": [
    "from sklearn.model_selection import train_test_split\n",
    "\n",
    "X_train, X_test, y_train, y_test = train_test_split (features, target, test_size = 0.2, random_state= 29, stratify= target)\n",
    "print(f'X_train: {X_train.shape}')\n",
    "print(f'X_test: {X_test.shape}')\n",
    "print('y_train: {}'.format(y_train.shape))\n",
    "print('y_test: {}'.format(y_test.shape))"
   ]
  },
  {
   "cell_type": "code",
   "execution_count": 26,
   "metadata": {},
   "outputs": [
    {
     "data": {
      "image/png": "[encoded data removed]",
      "text/plain": [
       "<Figure size 1296x144 with 5 Axes>"
      ]
     },
     "metadata": {
      "needs_background": "light"
     },
     "output_type": "display_data"
    },
    {
     "data": {
      "image/png": "[encoded data removed]",
      "text/plain": [
       "<Figure size 1296x144 with 5 Axes>"
      ]
     },
     "metadata": {
      "needs_background": "light"
     },
     "output_type": "display_data"
    },
    {
     "data": {
      "image/png": "[encoded data removed]",
      "text/plain": [
       "<Figure size 1296x144 with 5 Axes>"
      ]
     },
     "metadata": {
      "needs_background": "light"
     },
     "output_type": "display_data"
    }
   ],
   "source": [
    "# Standardize or Normalize as required\n",
    "# We Normalize when the data distribution is not normal\n",
    "# Test for Normality \n",
    "\n",
    "def Normality_Test (a,b,c,d,e):\n",
    "  plt.figure(figsize=(18,2))\n",
    "  plt.subplot(1,5,1)\n",
    "  plt.hist(features[a])\n",
    "  plt.title(a + ' histogram')\n",
    "\n",
    "  plt.subplot(1,5,2)\n",
    "  plt.hist(features[b])\n",
    "  plt.title(b + ' histogram')\n",
    "\n",
    "  plt.subplot(1,5,3)\n",
    "  plt.hist(features[c])\n",
    "  plt.title(c + ' histogram')\n",
    "\n",
    "  plt.subplot(1,5,4)\n",
    "  plt.hist(features[d])\n",
    "  plt.title(d + ' histogram')\n",
    "\n",
    "  plt.subplot(1,5,5)\n",
    "  plt.hist(features[e])\n",
    "  plt.title(e + ' histogram')\n",
    "\n",
    "Normality_Test('account_length','number_vmail_messages', 'total_day_minutes', 'total_day_calls', 'total_day_charge')\n",
    "Normality_Test('total_eve_minutes', 'total_eve_calls', 'total_eve_charge', 'total_night_minutes', 'total_night_calls')\n",
    "Normality_Test('total_night_charge', 'total_intl_minutes', 'total_intl_calls',  'total_intl_charge', 'number_customer_service_calls')"
   ]
  },
  {
   "cell_type": "code",
   "execution_count": 27,
   "metadata": {},
   "outputs": [],
   "source": [
    "from sklearn.preprocessing import MinMaxScaler\n",
    "\n",
    "xtrain = X_train.copy()\n",
    "xtest = X_test.copy()\n",
    "sel_cols = features.columns.tolist()\n",
    "for i in sel_cols:\n",
    "    scaler = MinMaxScaler().fit(X_train[[i]])\n",
    "    xtrain[i] = scaler.transform(X_train[[i]])\n",
    "    xtest[i] = scaler.transform(X_test[[i]])\n",
    "     \n",
    "# Its good practice to fit the scaler on the xtrain only, then transform on the xtrain and xtest.But never transform the ytrain or ytest"
   ]
  },
  {
   "cell_type": "code",
   "execution_count": 28,
   "metadata": {},
   "outputs": [
    {
     "data": {
      "text/html": [
       "<div>\n",
       "<style scoped>\n",
       "    .dataframe tbody tr th:only-of-type {\n",
       "        vertical-align: middle;\n",
       "    }\n",
       "\n",
       "    .dataframe tbody tr th {\n",
       "        vertical-align: top;\n",
       "    }\n",
       "\n",
       "    .dataframe thead th {\n",
       "        text-align: right;\n",
       "    }\n",
       "</style>\n",
       "<table border=\"1\" class=\"dataframe\">\n",
       "  <thead>\n",
       "    <tr style=\"text-align: right;\">\n",
       "      <th></th>\n",
       "      <th>account_length</th>\n",
       "      <th>international_plan</th>\n",
       "      <th>voice_mail_plan</th>\n",
       "      <th>number_vmail_messages</th>\n",
       "      <th>total_day_minutes</th>\n",
       "      <th>total_day_calls</th>\n",
       "      <th>total_day_charge</th>\n",
       "      <th>total_eve_minutes</th>\n",
       "      <th>total_eve_calls</th>\n",
       "      <th>total_eve_charge</th>\n",
       "      <th>total_night_minutes</th>\n",
       "      <th>total_night_calls</th>\n",
       "      <th>total_night_charge</th>\n",
       "      <th>total_intl_minutes</th>\n",
       "      <th>total_intl_calls</th>\n",
       "      <th>total_intl_charge</th>\n",
       "      <th>number_customer_service_calls</th>\n",
       "    </tr>\n",
       "  </thead>\n",
       "  <tbody>\n",
       "    <tr>\n",
       "      <th>3235</th>\n",
       "      <td>0.239669</td>\n",
       "      <td>0.0</td>\n",
       "      <td>1.0</td>\n",
       "      <td>0.865385</td>\n",
       "      <td>0.202560</td>\n",
       "      <td>0.684848</td>\n",
       "      <td>0.202477</td>\n",
       "      <td>0.650431</td>\n",
       "      <td>0.562130</td>\n",
       "      <td>0.650295</td>\n",
       "      <td>0.352658</td>\n",
       "      <td>0.737143</td>\n",
       "      <td>0.352842</td>\n",
       "      <td>0.700</td>\n",
       "      <td>0.666667</td>\n",
       "      <td>0.700000</td>\n",
       "      <td>0.111111</td>\n",
       "    </tr>\n",
       "    <tr>\n",
       "      <th>3419</th>\n",
       "      <td>0.309917</td>\n",
       "      <td>0.0</td>\n",
       "      <td>0.0</td>\n",
       "      <td>0.000000</td>\n",
       "      <td>0.634424</td>\n",
       "      <td>0.660606</td>\n",
       "      <td>0.634371</td>\n",
       "      <td>0.608684</td>\n",
       "      <td>0.573964</td>\n",
       "      <td>0.608710</td>\n",
       "      <td>0.350886</td>\n",
       "      <td>0.720000</td>\n",
       "      <td>0.351154</td>\n",
       "      <td>0.580</td>\n",
       "      <td>0.444444</td>\n",
       "      <td>0.579630</td>\n",
       "      <td>0.222222</td>\n",
       "    </tr>\n",
       "    <tr>\n",
       "      <th>1380</th>\n",
       "      <td>0.475207</td>\n",
       "      <td>0.0</td>\n",
       "      <td>0.0</td>\n",
       "      <td>0.000000</td>\n",
       "      <td>0.453485</td>\n",
       "      <td>0.478788</td>\n",
       "      <td>0.453481</td>\n",
       "      <td>0.499583</td>\n",
       "      <td>0.520710</td>\n",
       "      <td>0.499673</td>\n",
       "      <td>0.424810</td>\n",
       "      <td>0.405714</td>\n",
       "      <td>0.424873</td>\n",
       "      <td>0.485</td>\n",
       "      <td>0.111111</td>\n",
       "      <td>0.485185</td>\n",
       "      <td>0.666667</td>\n",
       "    </tr>\n",
       "    <tr>\n",
       "      <th>387</th>\n",
       "      <td>0.541322</td>\n",
       "      <td>0.0</td>\n",
       "      <td>1.0</td>\n",
       "      <td>0.692308</td>\n",
       "      <td>0.643528</td>\n",
       "      <td>0.624242</td>\n",
       "      <td>0.643407</td>\n",
       "      <td>0.505427</td>\n",
       "      <td>0.739645</td>\n",
       "      <td>0.505566</td>\n",
       "      <td>0.655190</td>\n",
       "      <td>0.582857</td>\n",
       "      <td>0.655599</td>\n",
       "      <td>0.525</td>\n",
       "      <td>0.277778</td>\n",
       "      <td>0.525926</td>\n",
       "      <td>0.333333</td>\n",
       "    </tr>\n",
       "    <tr>\n",
       "      <th>2827</th>\n",
       "      <td>0.276860</td>\n",
       "      <td>0.0</td>\n",
       "      <td>0.0</td>\n",
       "      <td>0.000000</td>\n",
       "      <td>0.657468</td>\n",
       "      <td>0.345455</td>\n",
       "      <td>0.657463</td>\n",
       "      <td>0.426941</td>\n",
       "      <td>0.325444</td>\n",
       "      <td>0.426981</td>\n",
       "      <td>0.484304</td>\n",
       "      <td>0.702857</td>\n",
       "      <td>0.484524</td>\n",
       "      <td>0.480</td>\n",
       "      <td>0.222222</td>\n",
       "      <td>0.479630</td>\n",
       "      <td>0.333333</td>\n",
       "    </tr>\n",
       "    <tr>\n",
       "      <th>...</th>\n",
       "      <td>...</td>\n",
       "      <td>...</td>\n",
       "      <td>...</td>\n",
       "      <td>...</td>\n",
       "      <td>...</td>\n",
       "      <td>...</td>\n",
       "      <td>...</td>\n",
       "      <td>...</td>\n",
       "      <td>...</td>\n",
       "      <td>...</td>\n",
       "      <td>...</td>\n",
       "      <td>...</td>\n",
       "      <td>...</td>\n",
       "      <td>...</td>\n",
       "      <td>...</td>\n",
       "      <td>...</td>\n",
       "      <td>...</td>\n",
       "    </tr>\n",
       "    <tr>\n",
       "      <th>4189</th>\n",
       "      <td>0.528926</td>\n",
       "      <td>0.0</td>\n",
       "      <td>1.0</td>\n",
       "      <td>0.442308</td>\n",
       "      <td>0.599431</td>\n",
       "      <td>0.721212</td>\n",
       "      <td>0.599398</td>\n",
       "      <td>0.382410</td>\n",
       "      <td>0.301775</td>\n",
       "      <td>0.382449</td>\n",
       "      <td>0.628354</td>\n",
       "      <td>0.525714</td>\n",
       "      <td>0.628588</td>\n",
       "      <td>0.395</td>\n",
       "      <td>0.333333</td>\n",
       "      <td>0.394444</td>\n",
       "      <td>0.222222</td>\n",
       "    </tr>\n",
       "    <tr>\n",
       "      <th>3215</th>\n",
       "      <td>0.409091</td>\n",
       "      <td>0.0</td>\n",
       "      <td>1.0</td>\n",
       "      <td>0.500000</td>\n",
       "      <td>0.562447</td>\n",
       "      <td>0.484848</td>\n",
       "      <td>0.562416</td>\n",
       "      <td>0.647370</td>\n",
       "      <td>0.491124</td>\n",
       "      <td>0.647348</td>\n",
       "      <td>0.497975</td>\n",
       "      <td>0.685714</td>\n",
       "      <td>0.498030</td>\n",
       "      <td>0.600</td>\n",
       "      <td>0.277778</td>\n",
       "      <td>0.600000</td>\n",
       "      <td>0.111111</td>\n",
       "    </tr>\n",
       "    <tr>\n",
       "      <th>3000</th>\n",
       "      <td>0.479339</td>\n",
       "      <td>0.0</td>\n",
       "      <td>0.0</td>\n",
       "      <td>0.000000</td>\n",
       "      <td>0.860882</td>\n",
       "      <td>0.503030</td>\n",
       "      <td>0.860776</td>\n",
       "      <td>0.465071</td>\n",
       "      <td>0.627219</td>\n",
       "      <td>0.464964</td>\n",
       "      <td>0.531139</td>\n",
       "      <td>0.451429</td>\n",
       "      <td>0.531232</td>\n",
       "      <td>0.520</td>\n",
       "      <td>0.388889</td>\n",
       "      <td>0.520370</td>\n",
       "      <td>0.111111</td>\n",
       "    </tr>\n",
       "    <tr>\n",
       "      <th>1935</th>\n",
       "      <td>0.194215</td>\n",
       "      <td>0.0</td>\n",
       "      <td>0.0</td>\n",
       "      <td>0.000000</td>\n",
       "      <td>0.489047</td>\n",
       "      <td>0.593939</td>\n",
       "      <td>0.488956</td>\n",
       "      <td>0.442527</td>\n",
       "      <td>0.751479</td>\n",
       "      <td>0.442698</td>\n",
       "      <td>0.353165</td>\n",
       "      <td>0.577143</td>\n",
       "      <td>0.353405</td>\n",
       "      <td>0.380</td>\n",
       "      <td>0.166667</td>\n",
       "      <td>0.379630</td>\n",
       "      <td>0.222222</td>\n",
       "    </tr>\n",
       "    <tr>\n",
       "      <th>1554</th>\n",
       "      <td>0.396694</td>\n",
       "      <td>0.0</td>\n",
       "      <td>0.0</td>\n",
       "      <td>0.000000</td>\n",
       "      <td>0.785491</td>\n",
       "      <td>0.496970</td>\n",
       "      <td>0.785475</td>\n",
       "      <td>0.559699</td>\n",
       "      <td>0.627219</td>\n",
       "      <td>0.559594</td>\n",
       "      <td>0.585570</td>\n",
       "      <td>0.417143</td>\n",
       "      <td>0.585819</td>\n",
       "      <td>0.445</td>\n",
       "      <td>0.222222</td>\n",
       "      <td>0.444444</td>\n",
       "      <td>0.000000</td>\n",
       "    </tr>\n",
       "  </tbody>\n",
       "</table>\n",
       "<p>3400 rows × 17 columns</p>\n",
       "</div>"
      ],
      "text/plain": [
       "      account_length  international_plan  voice_mail_plan  \\\n",
       "3235        0.239669                 0.0              1.0   \n",
       "3419        0.309917                 0.0              0.0   \n",
       "1380        0.475207                 0.0              0.0   \n",
       "387         0.541322                 0.0              1.0   \n",
       "2827        0.276860                 0.0              0.0   \n",
       "...              ...                 ...              ...   \n",
       "4189        0.528926                 0.0              1.0   \n",
       "3215        0.409091                 0.0              1.0   \n",
       "3000        0.479339                 0.0              0.0   \n",
       "1935        0.194215                 0.0              0.0   \n",
       "1554        0.396694                 0.0              0.0   \n",
       "\n",
       "      number_vmail_messages  total_day_minutes  total_day_calls  \\\n",
       "3235               0.865385           0.202560         0.684848   \n",
       "3419               0.000000           0.634424         0.660606   \n",
       "1380               0.000000           0.453485         0.478788   \n",
       "387                0.692308           0.643528         0.624242   \n",
       "2827               0.000000           0.657468         0.345455   \n",
       "...                     ...                ...              ...   \n",
       "4189               0.442308           0.599431         0.721212   \n",
       "3215               0.500000           0.562447         0.484848   \n",
       "3000               0.000000           0.860882         0.503030   \n",
       "1935               0.000000           0.489047         0.593939   \n",
       "1554               0.000000           0.785491         0.496970   \n",
       "\n",
       "      total_day_charge  total_eve_minutes  total_eve_calls  total_eve_charge  \\\n",
       "3235          0.202477           0.650431         0.562130          0.650295   \n",
       "3419          0.634371           0.608684         0.573964          0.608710   \n",
       "1380          0.453481           0.499583         0.520710          0.499673   \n",
       "387           0.643407           0.505427         0.739645          0.505566   \n",
       "2827          0.657463           0.426941         0.325444          0.426981   \n",
       "...                ...                ...              ...               ...   \n",
       "4189          0.599398           0.382410         0.301775          0.382449   \n",
       "3215          0.562416           0.647370         0.491124          0.647348   \n",
       "3000          0.860776           0.465071         0.627219          0.464964   \n",
       "1935          0.488956           0.442527         0.751479          0.442698   \n",
       "1554          0.785475           0.559699         0.627219          0.559594   \n",
       "\n",
       "      total_night_minutes  total_night_calls  total_night_charge  \\\n",
       "3235             0.352658           0.737143            0.352842   \n",
       "3419             0.350886           0.720000            0.351154   \n",
       "1380             0.424810           0.405714            0.424873   \n",
       "387              0.655190           0.582857            0.655599   \n",
       "2827             0.484304           0.702857            0.484524   \n",
       "...                   ...                ...                 ...   \n",
       "4189             0.628354           0.525714            0.628588   \n",
       "3215             0.497975           0.685714            0.498030   \n",
       "3000             0.531139           0.451429            0.531232   \n",
       "1935             0.353165           0.577143            0.353405   \n",
       "1554             0.585570           0.417143            0.585819   \n",
       "\n",
       "      total_intl_minutes  total_intl_calls  total_intl_charge  \\\n",
       "3235               0.700          0.666667           0.700000   \n",
       "3419               0.580          0.444444           0.579630   \n",
       "1380               0.485          0.111111           0.485185   \n",
       "387                0.525          0.277778           0.525926   \n",
       "2827               0.480          0.222222           0.479630   \n",
       "...                  ...               ...                ...   \n",
       "4189               0.395          0.333333           0.394444   \n",
       "3215               0.600          0.277778           0.600000   \n",
       "3000               0.520          0.388889           0.520370   \n",
       "1935               0.380          0.166667           0.379630   \n",
       "1554               0.445          0.222222           0.444444   \n",
       "\n",
       "      number_customer_service_calls  \n",
       "3235                       0.111111  \n",
       "3419                       0.222222  \n",
       "1380                       0.666667  \n",
       "387                        0.333333  \n",
       "2827                       0.333333  \n",
       "...                             ...  \n",
       "4189                       0.222222  \n",
       "3215                       0.111111  \n",
       "3000                       0.111111  \n",
       "1935                       0.222222  \n",
       "1554                       0.000000  \n",
       "\n",
       "[3400 rows x 17 columns]"
      ]
     },
     "execution_count": 28,
     "metadata": {},
     "output_type": "execute_result"
    }
   ],
   "source": [
    "xtrain"
   ]
  },
  {
   "cell_type": "markdown",
   "metadata": {},
   "source": [
    "-----------------------------------------------------------------\n",
    "### MODELLING\n",
    "\n",
    "- Support Vector Machine\n",
    "- RandomForest\n"
   ]
  },
  {
   "cell_type": "code",
   "execution_count": 29,
   "metadata": {},
   "outputs": [],
   "source": [
    "# Import Dependencies\n",
    "\n",
    "from sklearn.svm import SVC\n",
    "from sklearn.model_selection import RepeatedKFold, cross_val_score\n",
    "from sklearn.metrics import classification_report, confusion_matrix\n",
    "from sklearn.metrics import r2_score, mean_absolute_error, mean_squared_error\n",
    "import math\n",
    "from sklearn.model_selection import GridSearchCV, RandomizedSearchCV "
   ]
  },
  {
   "cell_type": "markdown",
   "metadata": {},
   "source": [
    "-----------------------------------------------------------------------------------------------\n",
    "## SUPPORT VECTOR MACHINE"
   ]
  },
  {
   "cell_type": "code",
   "execution_count": 30,
   "metadata": {},
   "outputs": [
    {
     "name": "stdout",
     "output_type": "stream",
     "text": [
      "0.91 accuracy with a standard deviation of 0.01\n"
     ]
    }
   ],
   "source": [
    "svc_model = SVC() # Instantiate the algorithm\n",
    "svc_model.fit(xtrain, y_train) \n",
    "\n",
    "# Cross Validation\n",
    "cv = RepeatedKFold(n_splits=10, n_repeats=3, random_state=1) # Instantiate the CV and its parameters\n",
    "cv_score = cross_val_score(svc_model, xtrain, y_train, scoring='accuracy', cv=cv, n_jobs=-1) # Cross Val score\n",
    "print(\"%0.2f accuracy with a standard deviation of %0.2f\" % (cv_score.mean(), cv_score.std()))"
   ]
  },
  {
   "cell_type": "code",
   "execution_count": 31,
   "metadata": {},
   "outputs": [
    {
     "name": "stdout",
     "output_type": "stream",
     "text": [
      "CLASSIFICATION MODEL PERFORMANCE\n",
      "              precision    recall  f1-score   support\n",
      "\n",
      "           0       0.92      1.00      0.96       730\n",
      "           1       0.97      0.49      0.65       120\n",
      "\n",
      "    accuracy                           0.93       850\n",
      "   macro avg       0.94      0.74      0.81       850\n",
      "weighted avg       0.93      0.93      0.92       850\n",
      "\n",
      "Mean absolute error(MAE) = 0.07411764705882352\n",
      "Mean squared error(MSE) = 0.07411764705882352\n",
      "R2 score =  0.38869863013698613\n",
      "[[728   2]\n",
      " [ 61  59]]\n"
     ]
    }
   ],
   "source": [
    "print(\"CLASSIFICATION MODEL PERFORMANCE\")\n",
    "\n",
    "svc_pred = svc_model.predict(xtest)\n",
    "svc_eval = print(classification_report(y_test, svc_pred))\n",
    "\n",
    "print(\"Mean absolute error(MAE) =\", mean_absolute_error(y_test,svc_pred))\n",
    "print(\"Mean squared error(MSE) =\", mean_squared_error(y_test,svc_pred))\n",
    "print('R2 score = ', r2_score(y_test,svc_pred) )\n",
    "print(confusion_matrix(y_test, svc_pred))"
   ]
  },
  {
   "cell_type": "markdown",
   "metadata": {},
   "source": [
    "##### Support Vector Grid Search "
   ]
  },
  {
   "cell_type": "code",
   "execution_count": 32,
   "metadata": {},
   "outputs": [
    {
     "name": "stdout",
     "output_type": "stream",
     "text": [
      "Fitting 5 folds for each of 25 candidates, totalling 125 fits\n",
      "[CV 1/5] END ........C=0.1, gamma=1, kernel=rbf;, score=0.860 total time=   0.5s\n",
      "[CV 2/5] END ........C=0.1, gamma=1, kernel=rbf;, score=0.860 total time=   0.5s\n",
      "[CV 3/5] END ........C=0.1, gamma=1, kernel=rbf;, score=0.859 total time=   0.4s\n",
      "[CV 4/5] END ........C=0.1, gamma=1, kernel=rbf;, score=0.859 total time=   0.4s\n",
      "[CV 5/5] END ........C=0.1, gamma=1, kernel=rbf;, score=0.859 total time=   0.3s\n",
      "[CV 1/5] END ......C=0.1, gamma=0.1, kernel=rbf;, score=0.860 total time=   0.4s\n",
      "[CV 2/5] END ......C=0.1, gamma=0.1, kernel=rbf;, score=0.860 total time=   0.5s\n",
      "[CV 3/5] END ......C=0.1, gamma=0.1, kernel=rbf;, score=0.859 total time=   0.3s\n",
      "[CV 4/5] END ......C=0.1, gamma=0.1, kernel=rbf;, score=0.859 total time=   0.4s\n",
      "[CV 5/5] END ......C=0.1, gamma=0.1, kernel=rbf;, score=0.859 total time=   0.4s\n",
      "[CV 1/5] END .....C=0.1, gamma=0.01, kernel=rbf;, score=0.860 total time=   0.3s\n",
      "[CV 2/5] END .....C=0.1, gamma=0.01, kernel=rbf;, score=0.860 total time=   0.3s\n",
      "[CV 3/5] END .....C=0.1, gamma=0.01, kernel=rbf;, score=0.859 total time=   0.3s\n",
      "[CV 4/5] END .....C=0.1, gamma=0.01, kernel=rbf;, score=0.859 total time=   0.3s\n",
      "[CV 5/5] END .....C=0.1, gamma=0.01, kernel=rbf;, score=0.859 total time=   0.3s\n",
      "[CV 1/5] END ....C=0.1, gamma=0.001, kernel=rbf;, score=0.860 total time=   0.3s\n",
      "[CV 2/5] END ....C=0.1, gamma=0.001, kernel=rbf;, score=0.860 total time=   0.4s\n",
      "[CV 3/5] END ....C=0.1, gamma=0.001, kernel=rbf;, score=0.859 total time=   0.4s\n",
      "[CV 4/5] END ....C=0.1, gamma=0.001, kernel=rbf;, score=0.859 total time=   0.4s\n",
      "[CV 5/5] END ....C=0.1, gamma=0.001, kernel=rbf;, score=0.859 total time=   0.4s\n",
      "[CV 1/5] END ...C=0.1, gamma=0.0001, kernel=rbf;, score=0.860 total time=   0.3s\n",
      "[CV 2/5] END ...C=0.1, gamma=0.0001, kernel=rbf;, score=0.860 total time=   0.4s\n",
      "[CV 3/5] END ...C=0.1, gamma=0.0001, kernel=rbf;, score=0.859 total time=   0.3s\n",
      "[CV 4/5] END ...C=0.1, gamma=0.0001, kernel=rbf;, score=0.859 total time=   0.4s\n",
      "[CV 5/5] END ...C=0.1, gamma=0.0001, kernel=rbf;, score=0.859 total time=   0.3s\n",
      "[CV 1/5] END ..........C=1, gamma=1, kernel=rbf;, score=0.903 total time=   0.3s\n",
      "[CV 2/5] END ..........C=1, gamma=1, kernel=rbf;, score=0.909 total time=   0.4s\n",
      "[CV 3/5] END ..........C=1, gamma=1, kernel=rbf;, score=0.913 total time=   0.4s\n",
      "[CV 4/5] END ..........C=1, gamma=1, kernel=rbf;, score=0.916 total time=   0.3s\n",
      "[CV 5/5] END ..........C=1, gamma=1, kernel=rbf;, score=0.913 total time=   0.3s\n",
      "[CV 1/5] END ........C=1, gamma=0.1, kernel=rbf;, score=0.860 total time=   0.3s\n",
      "[CV 2/5] END ........C=1, gamma=0.1, kernel=rbf;, score=0.860 total time=   0.3s\n",
      "[CV 3/5] END ........C=1, gamma=0.1, kernel=rbf;, score=0.859 total time=   0.3s\n",
      "[CV 4/5] END ........C=1, gamma=0.1, kernel=rbf;, score=0.859 total time=   0.3s\n",
      "[CV 5/5] END ........C=1, gamma=0.1, kernel=rbf;, score=0.859 total time=   0.3s\n",
      "[CV 1/5] END .......C=1, gamma=0.01, kernel=rbf;, score=0.860 total time=   0.3s\n",
      "[CV 2/5] END .......C=1, gamma=0.01, kernel=rbf;, score=0.860 total time=   0.3s\n",
      "[CV 3/5] END .......C=1, gamma=0.01, kernel=rbf;, score=0.859 total time=   0.3s\n",
      "[CV 4/5] END .......C=1, gamma=0.01, kernel=rbf;, score=0.859 total time=   0.3s\n",
      "[CV 5/5] END .......C=1, gamma=0.01, kernel=rbf;, score=0.859 total time=   0.3s\n",
      "[CV 1/5] END ......C=1, gamma=0.001, kernel=rbf;, score=0.860 total time=   0.3s\n",
      "[CV 2/5] END ......C=1, gamma=0.001, kernel=rbf;, score=0.860 total time=   0.3s\n",
      "[CV 3/5] END ......C=1, gamma=0.001, kernel=rbf;, score=0.859 total time=   0.3s\n",
      "[CV 4/5] END ......C=1, gamma=0.001, kernel=rbf;, score=0.859 total time=   0.3s\n",
      "[CV 5/5] END ......C=1, gamma=0.001, kernel=rbf;, score=0.859 total time=   0.3s\n",
      "[CV 1/5] END .....C=1, gamma=0.0001, kernel=rbf;, score=0.860 total time=   0.3s\n",
      "[CV 2/5] END .....C=1, gamma=0.0001, kernel=rbf;, score=0.860 total time=   0.3s\n",
      "[CV 3/5] END .....C=1, gamma=0.0001, kernel=rbf;, score=0.859 total time=   0.3s\n",
      "[CV 4/5] END .....C=1, gamma=0.0001, kernel=rbf;, score=0.859 total time=   0.3s\n",
      "[CV 5/5] END .....C=1, gamma=0.0001, kernel=rbf;, score=0.859 total time=   0.3s\n",
      "[CV 1/5] END .........C=10, gamma=1, kernel=rbf;, score=0.919 total time=   0.3s\n",
      "[CV 2/5] END .........C=10, gamma=1, kernel=rbf;, score=0.925 total time=   0.3s\n",
      "[CV 3/5] END .........C=10, gamma=1, kernel=rbf;, score=0.929 total time=   0.4s\n",
      "[CV 4/5] END .........C=10, gamma=1, kernel=rbf;, score=0.943 total time=   0.3s\n",
      "[CV 5/5] END .........C=10, gamma=1, kernel=rbf;, score=0.931 total time=   0.3s\n",
      "[CV 1/5] END .......C=10, gamma=0.1, kernel=rbf;, score=0.875 total time=   0.3s\n",
      "[CV 2/5] END .......C=10, gamma=0.1, kernel=rbf;, score=0.885 total time=   0.3s\n",
      "[CV 3/5] END .......C=10, gamma=0.1, kernel=rbf;, score=0.884 total time=   0.3s\n",
      "[CV 4/5] END .......C=10, gamma=0.1, kernel=rbf;, score=0.888 total time=   0.3s\n",
      "[CV 5/5] END .......C=10, gamma=0.1, kernel=rbf;, score=0.878 total time=   0.3s\n",
      "[CV 1/5] END ......C=10, gamma=0.01, kernel=rbf;, score=0.860 total time=   0.4s\n",
      "[CV 2/5] END ......C=10, gamma=0.01, kernel=rbf;, score=0.860 total time=   0.3s\n",
      "[CV 3/5] END ......C=10, gamma=0.01, kernel=rbf;, score=0.859 total time=   0.3s\n",
      "[CV 4/5] END ......C=10, gamma=0.01, kernel=rbf;, score=0.859 total time=   0.4s\n",
      "[CV 5/5] END ......C=10, gamma=0.01, kernel=rbf;, score=0.859 total time=   0.3s\n",
      "[CV 1/5] END .....C=10, gamma=0.001, kernel=rbf;, score=0.860 total time=   0.3s\n",
      "[CV 2/5] END .....C=10, gamma=0.001, kernel=rbf;, score=0.860 total time=   0.3s\n",
      "[CV 3/5] END .....C=10, gamma=0.001, kernel=rbf;, score=0.859 total time=   0.3s\n",
      "[CV 4/5] END .....C=10, gamma=0.001, kernel=rbf;, score=0.859 total time=   0.3s\n",
      "[CV 5/5] END .....C=10, gamma=0.001, kernel=rbf;, score=0.859 total time=   0.3s\n",
      "[CV 1/5] END ....C=10, gamma=0.0001, kernel=rbf;, score=0.860 total time=   0.4s\n",
      "[CV 2/5] END ....C=10, gamma=0.0001, kernel=rbf;, score=0.860 total time=   0.3s\n",
      "[CV 3/5] END ....C=10, gamma=0.0001, kernel=rbf;, score=0.859 total time=   0.3s\n",
      "[CV 4/5] END ....C=10, gamma=0.0001, kernel=rbf;, score=0.859 total time=   0.3s\n",
      "[CV 5/5] END ....C=10, gamma=0.0001, kernel=rbf;, score=0.859 total time=   0.3s\n",
      "[CV 1/5] END ........C=100, gamma=1, kernel=rbf;, score=0.934 total time=   0.5s\n",
      "[CV 2/5] END ........C=100, gamma=1, kernel=rbf;, score=0.928 total time=   0.5s\n",
      "[CV 3/5] END ........C=100, gamma=1, kernel=rbf;, score=0.929 total time=   0.5s\n",
      "[CV 4/5] END ........C=100, gamma=1, kernel=rbf;, score=0.940 total time=   0.6s\n",
      "[CV 5/5] END ........C=100, gamma=1, kernel=rbf;, score=0.929 total time=   0.5s\n",
      "[CV 1/5] END ......C=100, gamma=0.1, kernel=rbf;, score=0.904 total time=   0.3s\n",
      "[CV 2/5] END ......C=100, gamma=0.1, kernel=rbf;, score=0.907 total time=   0.3s\n",
      "[CV 3/5] END ......C=100, gamma=0.1, kernel=rbf;, score=0.921 total time=   0.4s\n",
      "[CV 4/5] END ......C=100, gamma=0.1, kernel=rbf;, score=0.928 total time=   0.3s\n",
      "[CV 5/5] END ......C=100, gamma=0.1, kernel=rbf;, score=0.913 total time=   0.3s\n",
      "[CV 1/5] END .....C=100, gamma=0.01, kernel=rbf;, score=0.860 total time=   0.4s\n",
      "[CV 2/5] END .....C=100, gamma=0.01, kernel=rbf;, score=0.860 total time=   0.4s\n",
      "[CV 3/5] END .....C=100, gamma=0.01, kernel=rbf;, score=0.859 total time=   0.3s\n",
      "[CV 4/5] END .....C=100, gamma=0.01, kernel=rbf;, score=0.859 total time=   0.3s\n",
      "[CV 5/5] END .....C=100, gamma=0.01, kernel=rbf;, score=0.859 total time=   0.4s\n",
      "[CV 1/5] END ....C=100, gamma=0.001, kernel=rbf;, score=0.860 total time=   0.4s\n",
      "[CV 2/5] END ....C=100, gamma=0.001, kernel=rbf;, score=0.860 total time=   0.4s\n",
      "[CV 3/5] END ....C=100, gamma=0.001, kernel=rbf;, score=0.859 total time=   0.4s\n",
      "[CV 4/5] END ....C=100, gamma=0.001, kernel=rbf;, score=0.859 total time=   0.4s\n",
      "[CV 5/5] END ....C=100, gamma=0.001, kernel=rbf;, score=0.859 total time=   0.4s\n",
      "[CV 1/5] END ...C=100, gamma=0.0001, kernel=rbf;, score=0.860 total time=   0.3s\n",
      "[CV 2/5] END ...C=100, gamma=0.0001, kernel=rbf;, score=0.860 total time=   0.3s\n",
      "[CV 3/5] END ...C=100, gamma=0.0001, kernel=rbf;, score=0.859 total time=   0.3s\n",
      "[CV 4/5] END ...C=100, gamma=0.0001, kernel=rbf;, score=0.859 total time=   0.3s\n",
      "[CV 5/5] END ...C=100, gamma=0.0001, kernel=rbf;, score=0.859 total time=   0.3s\n",
      "[CV 1/5] END .......C=1000, gamma=1, kernel=rbf;, score=0.907 total time=   1.3s\n",
      "[CV 2/5] END .......C=1000, gamma=1, kernel=rbf;, score=0.910 total time=   1.3s\n",
      "[CV 3/5] END .......C=1000, gamma=1, kernel=rbf;, score=0.906 total time=   1.2s\n",
      "[CV 4/5] END .......C=1000, gamma=1, kernel=rbf;, score=0.928 total time=   1.4s\n",
      "[CV 5/5] END .......C=1000, gamma=1, kernel=rbf;, score=0.906 total time=   1.4s\n",
      "[CV 1/5] END .....C=1000, gamma=0.1, kernel=rbf;, score=0.916 total time=   0.7s\n",
      "[CV 2/5] END .....C=1000, gamma=0.1, kernel=rbf;, score=0.924 total time=   0.7s\n",
      "[CV 3/5] END .....C=1000, gamma=0.1, kernel=rbf;, score=0.929 total time=   0.7s\n",
      "[CV 4/5] END .....C=1000, gamma=0.1, kernel=rbf;, score=0.935 total time=   0.7s\n",
      "[CV 5/5] END .....C=1000, gamma=0.1, kernel=rbf;, score=0.932 total time=   0.8s\n",
      "[CV 1/5] END ....C=1000, gamma=0.01, kernel=rbf;, score=0.875 total time=   0.4s\n",
      "[CV 2/5] END ....C=1000, gamma=0.01, kernel=rbf;, score=0.888 total time=   0.4s\n",
      "[CV 3/5] END ....C=1000, gamma=0.01, kernel=rbf;, score=0.885 total time=   0.4s\n",
      "[CV 4/5] END ....C=1000, gamma=0.01, kernel=rbf;, score=0.894 total time=   0.4s\n",
      "[CV 5/5] END ....C=1000, gamma=0.01, kernel=rbf;, score=0.887 total time=   0.4s\n",
      "[CV 1/5] END ...C=1000, gamma=0.001, kernel=rbf;, score=0.860 total time=   0.6s\n",
      "[CV 2/5] END ...C=1000, gamma=0.001, kernel=rbf;, score=0.860 total time=   0.7s\n",
      "[CV 3/5] END ...C=1000, gamma=0.001, kernel=rbf;, score=0.859 total time=   0.6s\n",
      "[CV 4/5] END ...C=1000, gamma=0.001, kernel=rbf;, score=0.859 total time=   0.7s\n",
      "[CV 5/5] END ...C=1000, gamma=0.001, kernel=rbf;, score=0.859 total time=   0.7s\n",
      "[CV 1/5] END ..C=1000, gamma=0.0001, kernel=rbf;, score=0.860 total time=   0.7s\n",
      "[CV 2/5] END ..C=1000, gamma=0.0001, kernel=rbf;, score=0.860 total time=   0.7s\n",
      "[CV 3/5] END ..C=1000, gamma=0.0001, kernel=rbf;, score=0.859 total time=   0.5s\n",
      "[CV 4/5] END ..C=1000, gamma=0.0001, kernel=rbf;, score=0.859 total time=   0.5s\n",
      "[CV 5/5] END ..C=1000, gamma=0.0001, kernel=rbf;, score=0.859 total time=   0.5s\n",
      "best parameters:  {'C': 100, 'gamma': 1, 'kernel': 'rbf'}\n",
      "best estimator:  SVC(C=100, gamma=1)\n"
     ]
    }
   ],
   "source": [
    "param_grid = {'C': [0.1, 1, 10, 100, 1000],\n",
    "              'gamma': [1, 0.1, 0.01, 0.001, 0.0001],\n",
    "              'kernel': ['rbf',]}\n",
    "grid = GridSearchCV(SVC(), param_grid, refit = True, verbose = 3)\n",
    "\n",
    "# fitting the model for grid search\n",
    "grid.fit(xtrain, y_train)\n",
    "print('best parameters: ', grid.best_params_) # print best parameter after tuning\n",
    " \n",
    "# print how our model looks after hyper-parameter tuning\n",
    "print('best estimator: ', grid.best_estimator_)\n"
   ]
  },
  {
   "cell_type": "code",
   "execution_count": 33,
   "metadata": {},
   "outputs": [
    {
     "name": "stdout",
     "output_type": "stream",
     "text": [
      "              precision    recall  f1-score   support\n",
      "\n",
      "           0       0.95      0.98      0.97       730\n",
      "           1       0.84      0.72      0.77       120\n",
      "\n",
      "    accuracy                           0.94       850\n",
      "   macro avg       0.90      0.85      0.87       850\n",
      "weighted avg       0.94      0.94      0.94       850\n",
      "\n",
      "Mean absolute error(MAE) = 0.058823529411764705\n",
      "Mean squared error(MSE) = 0.058823529411764705\n",
      "R2 score =  0.5148401826484017\n",
      "[[714  16]\n",
      " [ 34  86]]\n"
     ]
    }
   ],
   "source": [
    "grid_predictions = grid.predict(xtest)\n",
    "grid_eval = print(classification_report(y_test, grid_predictions))\n",
    "\n",
    "print(\"Mean absolute error(MAE) =\", mean_absolute_error(y_test,grid_predictions))\n",
    "print(\"Mean squared error(MSE) =\", mean_squared_error(y_test,grid_predictions))\n",
    "print('R2 score = ', r2_score(y_test,grid_predictions))\n",
    "print(confusion_matrix(y_test, grid_predictions))"
   ]
  },
  {
   "cell_type": "markdown",
   "metadata": {},
   "source": [
    "-------------------------------------------------------------------------\n",
    "## RANDOMFOREST"
   ]
  },
  {
   "cell_type": "code",
   "execution_count": 34,
   "metadata": {},
   "outputs": [
    {
     "name": "stdout",
     "output_type": "stream",
     "text": [
      "0.96 accuracy with a standard deviation of 0.01\n"
     ]
    }
   ],
   "source": [
    "rf_model = RandomForestClassifier() # instantiate the algorithm\n",
    "rf_model.fit(xtrain, y_train)\n",
    "\n",
    "cv = RepeatedKFold(n_splits=10, n_repeats=3, random_state=1) # Instantiate the CV and its parameters\n",
    "rf_cv_score = cross_val_score(rf_model, xtrain, y_train, scoring='accuracy', cv=cv, n_jobs=-1) # Cross Val score\n",
    "print(\"%0.2f accuracy with a standard deviation of %0.2f\" % (rf_cv_score.mean(), rf_cv_score.std()))"
   ]
  },
  {
   "cell_type": "code",
   "execution_count": 35,
   "metadata": {},
   "outputs": [
    {
     "name": "stdout",
     "output_type": "stream",
     "text": [
      "CLASSIFICATION MODEL PERFORMANCE\n",
      "              precision    recall  f1-score   support\n",
      "\n",
      "           0       0.96      1.00      0.98       730\n",
      "           1       0.98      0.72      0.83       120\n",
      "\n",
      "    accuracy                           0.96       850\n",
      "   macro avg       0.97      0.86      0.90       850\n",
      "weighted avg       0.96      0.96      0.95       850\n",
      "\n",
      "Mean absolute error(MAE) = 0.042352941176470586\n",
      "Mean squared error(MSE) = 0.042352941176470586\n",
      "R2 score =  0.6506849315068493\n",
      "[[728   2]\n",
      " [ 34  86]]\n"
     ]
    }
   ],
   "source": [
    "print(\"CLASSIFICATION MODEL PERFORMANCE\")\n",
    "\n",
    "rf_predict = rf_model.predict(xtest)\n",
    "rf_eval = print(classification_report(y_test, rf_predict))\n",
    "\n",
    "print(\"Mean absolute error(MAE) =\", mean_absolute_error(y_test, rf_predict))\n",
    "print(\"Mean squared error(MSE) =\", mean_squared_error(y_test, rf_predict))\n",
    "print('R2 score = ', r2_score(y_test, rf_predict))\n",
    "print(confusion_matrix(y_test, rf_predict))"
   ]
  },
  {
   "cell_type": "markdown",
   "metadata": {},
   "source": [
    "##### Random Forest Random Search"
   ]
  },
  {
   "cell_type": "code",
   "execution_count": 36,
   "metadata": {},
   "outputs": [
    {
     "name": "stdout",
     "output_type": "stream",
     "text": [
      "Fitting 3 folds for each of 100 candidates, totalling 300 fits\n",
      "best parameters:  {'n_estimators': 1800, 'min_samples_split': 2, 'min_samples_leaf': 1, 'max_features': 'auto', 'max_depth': 20, 'bootstrap': False}\n",
      "best estimator:  RandomForestClassifier(bootstrap=False, max_depth=20, n_estimators=1800)\n"
     ]
    }
   ],
   "source": [
    "n_estimators = [int(x) for x in np.linspace(start = 200, stop = 2000, num = 10)] # Number of trees in random forest\n",
    "max_features = ['auto', 'sqrt'] # Number of features to consider at every split\n",
    "max_depth = [int(x) for x in np.linspace(10, 110, num = 11)] # Maximum number of levels in tree\n",
    "max_depth.append(None)\n",
    "min_samples_split = [2, 5, 10] # Minimum number of samples required to split a node\n",
    "min_samples_leaf = [1, 2, 4] # Minimum number of samples required at each leaf node\n",
    "bootstrap = [True, False] # Method of selecting samples for training each tree\n",
    "\n",
    "# Create the random grid\n",
    "random_grid = {'n_estimators': n_estimators,\n",
    "               'max_features': max_features,\n",
    "               'max_depth': max_depth,\n",
    "               'min_samples_split': min_samples_split,\n",
    "               'min_samples_leaf': min_samples_leaf,\n",
    "               'bootstrap': bootstrap} \n",
    "\n",
    "# Use the random grid to search for best hyperparameters\n",
    "rf_random = RandomizedSearchCV(estimator = rf_model, param_distributions = random_grid, \n",
    "            n_iter = 100, cv = 3, verbose=2, random_state=42, \n",
    "            n_jobs = -1) # search across 100 different combinations, and use all available cores\n",
    "# Fit the random search model\n",
    "rf_random.fit(xtrain, y_train)\n",
    "print('best parameters: ', rf_random.best_params_) # print best parameter after tuning\n",
    "\n",
    "# print how our model looks after hyper-parameter tuning\n",
    "print('best estimator: ',  rf_random.best_estimator_)\n",
    " "
   ]
  },
  {
   "cell_type": "code",
   "execution_count": 37,
   "metadata": {},
   "outputs": [
    {
     "name": "stdout",
     "output_type": "stream",
     "text": [
      "CLASSIFICATION OF MODEL PERFORMANCE\n",
      "              precision    recall  f1-score   support\n",
      "\n",
      "           0       0.96      1.00      0.98       730\n",
      "           1       0.97      0.74      0.84       120\n",
      "\n",
      "    accuracy                           0.96       850\n",
      "   macro avg       0.96      0.87      0.91       850\n",
      "weighted avg       0.96      0.96      0.96       850\n",
      "\n",
      "Mean absolute error(MAE) = 0.04\n",
      "Mean squared error(MSE) = 0.04\n",
      "R2 score =  0.6700913242009132\n",
      "[[727   3]\n",
      " [ 31  89]]\n"
     ]
    }
   ],
   "source": [
    "print('CLASSIFICATION OF MODEL PERFORMANCE')\n",
    "\n",
    "rf_random_predict = rf_random.predict(xtest) # Predict using the hyper-parameter tuning\n",
    "rf_eval = print(classification_report(y_test, rf_random_predict))\n",
    "\n",
    "print(\"Mean absolute error(MAE) =\", mean_absolute_error(y_test, rf_random_predict))\n",
    "print(\"Mean squared error(MSE) =\", mean_squared_error(y_test, rf_random_predict))\n",
    "print('R2 score = ', r2_score(y_test, rf_random_predict))\n",
    "print(confusion_matrix(y_test, rf_random_predict))"
   ]
  },
  {
   "cell_type": "markdown",
   "metadata": {},
   "source": [
    "### COMPARISM BETWEEN PREDICTION AND OUTPUT"
   ]
  },
  {
   "cell_type": "code",
   "execution_count": 84,
   "metadata": {},
   "outputs": [],
   "source": [
    "output = pd.DataFrame(y_test.values, columns= ['Actual Churn'])\n",
    "rf_out = pd.DataFrame(rf_random_predict, columns= ['RandForest Pred'])\n",
    "svc_out = pd.DataFrame(grid_predictions, columns= ['SVC Pred'])\n",
    "Final_out = pd.concat([svc_out, rf_out], axis= 1)\n",
    "final_output = pd.concat([Final_out, output], axis = 1)\n"
   ]
  },
  {
   "cell_type": "code",
   "execution_count": 106,
   "metadata": {},
   "outputs": [
    {
     "data": {
      "text/html": [
       "<div>\n",
       "<style scoped>\n",
       "    .dataframe tbody tr th:only-of-type {\n",
       "        vertical-align: middle;\n",
       "    }\n",
       "\n",
       "    .dataframe tbody tr th {\n",
       "        vertical-align: top;\n",
       "    }\n",
       "\n",
       "    .dataframe thead th {\n",
       "        text-align: right;\n",
       "    }\n",
       "</style>\n",
       "<table border=\"1\" class=\"dataframe\">\n",
       "  <thead>\n",
       "    <tr style=\"text-align: right;\">\n",
       "      <th></th>\n",
       "      <th>SVC Pred</th>\n",
       "      <th>RandForest Pred</th>\n",
       "      <th>Actual Churn</th>\n",
       "    </tr>\n",
       "  </thead>\n",
       "  <tbody>\n",
       "    <tr>\n",
       "      <th>0</th>\n",
       "      <td>0</td>\n",
       "      <td>0</td>\n",
       "      <td>0</td>\n",
       "    </tr>\n",
       "    <tr>\n",
       "      <th>1</th>\n",
       "      <td>0</td>\n",
       "      <td>0</td>\n",
       "      <td>0</td>\n",
       "    </tr>\n",
       "    <tr>\n",
       "      <th>2</th>\n",
       "      <td>0</td>\n",
       "      <td>0</td>\n",
       "      <td>0</td>\n",
       "    </tr>\n",
       "    <tr>\n",
       "      <th>3</th>\n",
       "      <td>0</td>\n",
       "      <td>0</td>\n",
       "      <td>0</td>\n",
       "    </tr>\n",
       "    <tr>\n",
       "      <th>4</th>\n",
       "      <td>1</td>\n",
       "      <td>0</td>\n",
       "      <td>0</td>\n",
       "    </tr>\n",
       "    <tr>\n",
       "      <th>...</th>\n",
       "      <td>...</td>\n",
       "      <td>...</td>\n",
       "      <td>...</td>\n",
       "    </tr>\n",
       "    <tr>\n",
       "      <th>845</th>\n",
       "      <td>0</td>\n",
       "      <td>0</td>\n",
       "      <td>0</td>\n",
       "    </tr>\n",
       "    <tr>\n",
       "      <th>846</th>\n",
       "      <td>0</td>\n",
       "      <td>0</td>\n",
       "      <td>0</td>\n",
       "    </tr>\n",
       "    <tr>\n",
       "      <th>847</th>\n",
       "      <td>0</td>\n",
       "      <td>0</td>\n",
       "      <td>0</td>\n",
       "    </tr>\n",
       "    <tr>\n",
       "      <th>848</th>\n",
       "      <td>0</td>\n",
       "      <td>0</td>\n",
       "      <td>0</td>\n",
       "    </tr>\n",
       "    <tr>\n",
       "      <th>849</th>\n",
       "      <td>0</td>\n",
       "      <td>0</td>\n",
       "      <td>0</td>\n",
       "    </tr>\n",
       "  </tbody>\n",
       "</table>\n",
       "<p>850 rows × 3 columns</p>\n",
       "</div>"
      ],
      "text/plain": [
       "     SVC Pred  RandForest Pred  Actual Churn\n",
       "0           0                0             0\n",
       "1           0                0             0\n",
       "2           0                0             0\n",
       "3           0                0             0\n",
       "4           1                0             0\n",
       "..        ...              ...           ...\n",
       "845         0                0             0\n",
       "846         0                0             0\n",
       "847         0                0             0\n",
       "848         0                0             0\n",
       "849         0                0             0\n",
       "\n",
       "[850 rows x 3 columns]"
      ]
     },
     "execution_count": 106,
     "metadata": {},
     "output_type": "execute_result"
    }
   ],
   "source": [
    "final_output"
   ]
  },
  {
   "cell_type": "code",
   "execution_count": null,
   "metadata": {},
   "outputs": [],
   "source": []
  }
 ],
 "metadata": {
  "interpreter": {
   "hash": "e478f38818cae03cd594f77bbae1e511a24b773ba8c4c7099d08bb6003f8b875"
  },
  "kernelspec": {
   "display_name": "myenv",
   "language": "python",
   "name": "python3"
  },
  "language_info": {
   "codemirror_mode": {
    "name": "ipython",
    "version": 3
   },
   "file_extension": ".py",
   "mimetype": "text/x-python",
   "name": "python",
   "nbconvert_exporter": "python",
   "pygments_lexer": "ipython3",
   "version": "3.9.7"
  },
  "orig_nbformat": 4
 },
 "nbformat": 4,
 "nbformat_minor": 2
}
